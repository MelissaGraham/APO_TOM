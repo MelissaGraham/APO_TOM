{
 "cells": [
  {
   "cell_type": "code",
   "execution_count": 1,
   "metadata": {},
   "outputs": [],
   "source": [
    "### https://tom-toolkit.readthedocs.io/en/stable/advanced/scripts.html"
   ]
  },
  {
   "cell_type": "code",
   "execution_count": 2,
   "metadata": {},
   "outputs": [
    {
     "name": "stderr",
     "output_type": "stream",
     "text": [
      "Target post save hook: m51 created: True\n"
     ]
    },
    {
     "name": "stdout",
     "output_type": "stream",
     "text": [
      "m51\n"
     ]
    }
   ],
   "source": [
    "from tom_targets.models import Target\n",
    "t = Target.objects.create(name='m51', type='SIDEREAL', ra=123.3, dec=23.3)\n",
    "print(t)"
   ]
  },
  {
   "cell_type": "code",
   "execution_count": 3,
   "metadata": {},
   "outputs": [
    {
     "name": "stderr",
     "output_type": "stream",
     "text": [
      "Target post save hook: m51 created: False\n"
     ]
    },
    {
     "name": "stdout",
     "output_type": "stream",
     "text": [
      "{}\n"
     ]
    }
   ],
   "source": [
    "t.save(extras={'foo': 42, 'bar': 'baz'}, names=['Messier 51'])\n",
    "print(t.extra_fields)"
   ]
  },
  {
   "cell_type": "code",
   "execution_count": 4,
   "metadata": {},
   "outputs": [
    {
     "name": "stdout",
     "output_type": "stream",
     "text": [
      "m51\n"
     ]
    }
   ],
   "source": [
    "target = Target.objects.get(name='m51')\n",
    "print(target)"
   ]
  },
  {
   "cell_type": "code",
   "execution_count": 5,
   "metadata": {},
   "outputs": [
    {
     "data": {
      "text/plain": [
       "123.3"
      ]
     },
     "execution_count": 5,
     "metadata": {},
     "output_type": "execute_result"
    }
   ],
   "source": [
    "target.ra"
   ]
  },
  {
   "cell_type": "code",
   "execution_count": 6,
   "metadata": {},
   "outputs": [
    {
     "data": {
      "text/plain": [
       "[]"
      ]
     },
     "execution_count": 6,
     "metadata": {},
     "output_type": "execute_result"
    }
   ],
   "source": [
    "target.future_observations"
   ]
  },
  {
   "cell_type": "code",
   "execution_count": 7,
   "metadata": {},
   "outputs": [
    {
     "data": {
      "text/plain": [
       "['m51', 'Messier 51']"
      ]
     },
     "execution_count": 7,
     "metadata": {},
     "output_type": "execute_result"
    }
   ],
   "source": [
    "target.names"
   ]
  },
  {
   "cell_type": "code",
   "execution_count": 8,
   "metadata": {},
   "outputs": [
    {
     "data": {
      "text/plain": [
       "(4,\n",
       " {'tom_targets.TargetName': 1,\n",
       "  'tom_targets.TargetExtra': 2,\n",
       "  'tom_targets.TargetList_targets': 0,\n",
       "  'tom_dataproducts.ReducedDatum': 0,\n",
       "  'tom_targets.Target': 1})"
      ]
     },
     "execution_count": 8,
     "metadata": {},
     "output_type": "execute_result"
    }
   ],
   "source": [
    "target.delete()"
   ]
  },
  {
   "cell_type": "code",
   "execution_count": 9,
   "metadata": {},
   "outputs": [],
   "source": [
    "from tom_targets.models import Target\n",
    "from tom_observations.facilities.lco import LCOFacility, LCOBaseObservationForm"
   ]
  },
  {
   "cell_type": "code",
   "execution_count": 10,
   "metadata": {},
   "outputs": [
    {
     "name": "stdout",
     "output_type": "stream",
     "text": [
      "12.7358486 5.663694444444444\n",
      "3 [] ['Snickerdoodle Star']\n"
     ]
    }
   ],
   "source": [
    "target = Target.objects.get(name='Snickerdoodle Star')\n",
    "print(target.ra,target.dec)\n",
    "print(target.id,target.future_observations,target.names)"
   ]
  },
  {
   "cell_type": "code",
   "execution_count": 15,
   "metadata": {},
   "outputs": [],
   "source": [
    "form = LCOBaseObservationForm({\n",
    "    'name': 'Programmatic Observation',\n",
    "    'proposal': 'DDT2019B-006',\n",
    "    'ipp_value': 1.05,\n",
    "    'start': '2019-10-09T00:00:00',\n",
    "    'end': '2019-10-10T00:00:00',\n",
    "    'filter': 'R',\n",
    "    'instrument_type': '1M0-SCICAM-SINISTRO',\n",
    "    'exposure_count': 1,\n",
    "    'exposure_time': 20,\n",
    "    'max_airmass': 4.0,\n",
    "    'observation_mode': 'NORMAL',\n",
    "    'target_id': target.id,\n",
    "    'facility': 'LCO'\n",
    "})"
   ]
  },
  {
   "cell_type": "code",
   "execution_count": 16,
   "metadata": {},
   "outputs": [
    {
     "data": {
      "text/plain": [
       "True"
      ]
     },
     "execution_count": 16,
     "metadata": {},
     "output_type": "execute_result"
    }
   ],
   "source": [
    "form.is_valid()"
   ]
  },
  {
   "cell_type": "code",
   "execution_count": 17,
   "metadata": {},
   "outputs": [
    {
     "name": "stdout",
     "output_type": "stream",
     "text": [
      "[1944967]\n"
     ]
    }
   ],
   "source": [
    "observation_ids = LCOFacility().submit_observation(form.observation_payload())\n",
    "print(observation_ids)"
   ]
  },
  {
   "cell_type": "code",
   "execution_count": 18,
   "metadata": {},
   "outputs": [],
   "source": [
    "from tom_observations.models import ObservationRecord"
   ]
  },
  {
   "cell_type": "code",
   "execution_count": 19,
   "metadata": {},
   "outputs": [
    {
     "name": "stderr",
     "output_type": "stream",
     "text": [
      "Observation change state hook: Snickerdoodle Star @ LCO from None to \n"
     ]
    },
    {
     "name": "stdout",
     "output_type": "stream",
     "text": [
      "Snickerdoodle Star @ LCO\n"
     ]
    }
   ],
   "source": [
    "for observation_id in observation_ids:\n",
    "    record = ObservationRecord.objects.create(\n",
    "        target=target,\n",
    "        facility='LCO',\n",
    "        parameters=form.serialize_parameters(),\n",
    "        observation_id=observation_id\n",
    "    )\n",
    "    print(record)"
   ]
  },
  {
   "cell_type": "code",
   "execution_count": 20,
   "metadata": {},
   "outputs": [
    {
     "name": "stdout",
     "output_type": "stream",
     "text": [
      "3 [<ObservationRecord: Snickerdoodle Star @ LCO>] ['Snickerdoodle Star']\n"
     ]
    }
   ],
   "source": [
    "print(target.id,target.future_observations,target.names)"
   ]
  },
  {
   "cell_type": "code",
   "execution_count": null,
   "metadata": {},
   "outputs": [],
   "source": []
  }
 ],
 "metadata": {
  "kernelspec": {
   "display_name": "Django Shell-Plus",
   "language": "python",
   "name": "django_extensions"
  },
  "language_info": {
   "codemirror_mode": {
    "name": "ipython",
    "version": 3
   },
   "file_extension": ".py",
   "mimetype": "text/x-python",
   "name": "python",
   "nbconvert_exporter": "python",
   "pygments_lexer": "ipython3",
   "version": "3.7.4"
  }
 },
 "nbformat": 4,
 "nbformat_minor": 2
}
